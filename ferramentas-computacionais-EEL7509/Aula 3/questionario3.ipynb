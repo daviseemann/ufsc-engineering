{
 "cells": [
  {
   "cell_type": "markdown",
   "metadata": {},
   "source": [
    "# Questao 1"
   ]
  },
  {
   "cell_type": "code",
   "execution_count": 4,
   "metadata": {},
   "outputs": [
    {
     "name": "stdout",
     "output_type": "stream",
     "text": [
      "Toyota Corolla with 4 doors is starting\n",
      "Giant Escape 3 is starting Pedal to go!\n"
     ]
    }
   ],
   "source": [
    "class Vehicle:\n",
    "    def __init__(self, brand, model):\n",
    "        self.brand = brand\n",
    "        self.model = model\n",
    "    \n",
    "    def start(self):\n",
    "        return f'{self.brand} {self.model} is starting'\n",
    "\n",
    "class Car(Vehicle):\n",
    "    def __init__(self, brand, model, doors):\n",
    "        super().__init__(brand, model)\n",
    "        self.doors = doors\n",
    "\n",
    "    def start(self):\n",
    "        return f'{self.brand} {self.model} with {self.doors} doors is starting'\n",
    "\n",
    "class Bike(Vehicle):\n",
    "    def start(self):\n",
    "        return super().start() + \" Pedal to go!\"\n",
    "    \n",
    "car = Car('Toyota', 'Corolla', 4)\n",
    "bike = Bike(\"Giant\", \"Escape 3\")\n",
    "\n",
    "print(car.start())\n",
    "print(bike.start())"
   ]
  },
  {
   "cell_type": "code",
   "execution_count": 8,
   "metadata": {},
   "outputs": [
    {
     "name": "stdout",
     "output_type": "stream",
     "text": [
      "Dummy Function.\n"
     ]
    }
   ],
   "source": [
    "def dummy_fun():\n",
    "    print(\"Dummy Function.\")\n",
    "\n",
    "class DummyClass:\n",
    "    def dummy_fun():\n",
    "        print(\"DummyClass Function.\")\n",
    "\n",
    "my_class = DummyClass()\n",
    "\n",
    "my_class.dummy_fun = dummy_fun\n",
    "\n",
    "my_class.dummy_fun()"
   ]
  },
  {
   "cell_type": "code",
   "execution_count": null,
   "metadata": {},
   "outputs": [],
   "source": []
  }
 ],
 "metadata": {
  "kernelspec": {
   "display_name": "ufsc-engineering",
   "language": "python",
   "name": "python3"
  },
  "language_info": {
   "codemirror_mode": {
    "name": "ipython",
    "version": 3
   },
   "file_extension": ".py",
   "mimetype": "text/x-python",
   "name": "python",
   "nbconvert_exporter": "python",
   "pygments_lexer": "ipython3",
   "version": "3.12.4"
  }
 },
 "nbformat": 4,
 "nbformat_minor": 2
}
