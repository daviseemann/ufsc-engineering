{
 "cells": [
  {
   "cell_type": "code",
   "execution_count": 1,
   "metadata": {},
   "outputs": [],
   "source": [
    "import numpy as np\n",
    "import matplotlib.pyplot as plt"
   ]
  },
  {
   "cell_type": "markdown",
   "metadata": {},
   "source": [
    "Exercício 4: Em teoria de probabilidade, o teorema do limite central\n",
    "estabelece que, sob certas circunstâncias, a soma de diferentes variáveis\n",
    "independentes tende a uma distribuição normal. Verifique tal teorema gerando\n",
    "vetores contendo valores com distribuição uniforme (usando\n",
    "np.random.rand()), somando tais vetores, e plotando o histograma do vetor\n",
    "soma resultante."
   ]
  },
  {
   "cell_type": "code",
   "execution_count": 16,
   "metadata": {},
   "outputs": [
    {
     "data": {
      "image/png": "[encoded data removed]",
      "text/plain": [
       "<Figure size 640x480 with 1 Axes>"
      ]
     },
     "metadata": {},
     "output_type": "display_data"
    }
   ],
   "source": [
    "# vector_1 =np.array(np.random.randint(0, 100, 100))\n",
    "# vector_2 =np.array(np.random.randint(0, 100, 100))\n",
    "# vector_3 =np.array(np.random.randint(0, 100, 100))\n",
    "# vector_4 =np.array(np.random.randint(0, 100, 100))\n",
    "\n",
    "\n",
    "def gen_vectors(num, size):\n",
    "    return [np.array(np.random.randint(0, 100, size)) for i in range(num)]\n",
    "\n",
    "\n",
    "vect = gen_vectors(4, 100)\n",
    "sum_vect = np.sum(vect, axis=0)\n",
    "fig, ax = plt.subplots()\n",
    "ax.hist(sum_vect, bins=100)\n",
    "plt.show()"
   ]
  }
 ],
 "metadata": {
  "kernelspec": {
   "display_name": "ufsc-engineering",
   "language": "python",
   "name": "python3"
  },
  "language_info": {
   "codemirror_mode": {
    "name": "ipython",
    "version": 3
   },
   "file_extension": ".py",
   "mimetype": "text/x-python",
   "name": "python",
   "nbconvert_exporter": "python",
   "pygments_lexer": "ipython3",
   "version": "3.12.4"
  }
 },
 "nbformat": 4,
 "nbformat_minor": 2
}
