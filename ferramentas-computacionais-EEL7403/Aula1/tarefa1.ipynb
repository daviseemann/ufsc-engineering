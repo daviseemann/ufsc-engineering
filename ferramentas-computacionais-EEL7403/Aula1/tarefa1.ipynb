{
 "cells": [
  {
   "cell_type": "code",
   "execution_count": 1,
   "metadata": {},
   "outputs": [],
   "source": [
    "import numpy as np\n",
    "import scipy\n",
    "import matplotlib.pyplot as plt"
   ]
  },
  {
   "cell_type": "markdown",
   "metadata": {},
   "source": [
    "# Exercicio 1"
   ]
  },
  {
   "cell_type": "markdown",
   "metadata": {},
   "source": [
    "Aluno - Davi Grumiche Seemann(19206685)"
   ]
  },
  {
   "cell_type": "markdown",
   "metadata": {},
   "source": [
    "Considere um receptor com potência de ruído de -160dBm na banda de\n",
    "interesse. Assuma um modelo de path loss do tipo log-distância, onde\n",
    "d0=1m, fc = 1GHz, e n = 4. Para uma potência de transmissão de\n",
    "Pt=10mW, encontre a máxima distância entre transmissor e receptor se a\n",
    "SNR precisa ser maior ou igual a 20dB."
   ]
  },
  {
   "cell_type": "markdown",
   "metadata": {},
   "source": [
    "Pode-se assumir espaço livre entre 0m e 1m,\n",
    "\n",
    "Equação [1]:\n",
    "\n",
    "$$ \n",
    "Pr = {Pt * G_t *G_r * λ \\over (4π)^2*d^2 *L}\n",
    "$$ "
   ]
  },
  {
   "cell_type": "code",
   "execution_count": 2,
   "metadata": {},
   "outputs": [
    {
     "name": "stdout",
     "output_type": "stream",
     "text": [
      "-22.441772186048677 dBm\n"
     ]
    }
   ],
   "source": [
    "Pt = 0.010\n",
    "Gt = 1\n",
    "Gr = 1\n",
    "fc = 10**9\n",
    "c = 3*10**8\n",
    "lambd = c/fc\n",
    "\n",
    "d0=1\n",
    "def eq_espaco_livre(Pt, Gt, Gr, lambd, d):\n",
    "    Pr = (Pt*Gt*Gr*(lambd**2))/(((4*np.pi)**2)*(d**2))\n",
    "\n",
    "    Pr_dbm = 10*np.log10(Pr/10**-3)\n",
    "    return Pr_dbm\n",
    "\n",
    "Pr = eq_espaco_livre(Pt, Gt, Gr, lambd, d0)\n",
    "\n",
    "print(Pr, \"dBm\")"
   ]
  },
  {
   "cell_type": "markdown",
   "metadata": {},
   "source": [
    "Após isso, utiliza-se a fórmula da atenuação logarítmica de distância abaixo, onde $$  n = 4 ,  d_0 = 1  [m]: $$\n",
    "\n",
    "$$\n",
    "PL(d)_{\\text{[dB]}} = PL(d_0)_{\\text{[dB]}} + 10n \\log_{10}\\left(\\frac{d}{d_0}\\right)\n",
    "$$\n",
    "\n",
    "Onde:\n",
    "$$\n",
    "-22,44 -(160 + 20) = 117,56 dBm = 10 * 4 \\log_{10}\\left(\\frac{d}{1}\\right)\n",
    "$$"
   ]
  },
  {
   "cell_type": "code",
   "execution_count": 3,
   "metadata": {},
   "outputs": [
    {
     "name": "stdout",
     "output_type": "stream",
     "text": [
      "868.87178661026 metros\n"
     ]
    }
   ],
   "source": [
    "Pot_ruido = -160 #dbm\n",
    "SNR = 20\n",
    "\n",
    "d = 10**((Pr-(Pot_ruido + SNR))/40) \n",
    "\n",
    "print(d, \"metros\")"
   ]
  },
  {
   "cell_type": "markdown",
   "metadata": {},
   "source": [
    "# Exercicio 2\n",
    "\n",
    "Considerando uma potência de transmissão de 1kW e frequência de\n",
    "portadora de 1800MHz, trace (em escala log-log) a potência do sinal\n",
    "recebido para distâncias de 1km a 20km para os seguintes modelos de perda\n",
    "de percurso:\n",
    "1. espaço livre;\n",
    "2. log-distância para n = 3 e n = 4. Use Pr(d0 = 1km) do espaço-livre;\n",
    "3. Hata (estendido) com altura das antenas de 30m e 2m;\n",
    "4. log-distância para n = 3 e n = 4. Use Pr(d0 = 1km) do Hata estendido.\n",
    "Considere ganho das antenas unitário, ambiente urbano.\n"
   ]
  },
  {
   "cell_type": "code",
   "execution_count": 53,
   "metadata": {},
   "outputs": [],
   "source": [
    "Pt_2 = 10**3\n",
    "fc_2 = 1800*10**6\n",
    "d = np.arange(1000, 21000, 100)\n",
    "d0_2 = 1e3"
   ]
  },
  {
   "cell_type": "markdown",
   "metadata": {},
   "source": [
    "Vamos criar as funçoes para cada modelo de perda de percurso e depois plotar o gráfico."
   ]
  },
  {
   "cell_type": "code",
   "execution_count": 54,
   "metadata": {},
   "outputs": [],
   "source": [
    "def eq_espaco_livre_2(Pt, Gt, Gr, lambd, d):\n",
    "    Pr = (Pt * Gt * Gr * (lambd**2)) / (((4 * np.pi) ** 2) * (d**2))\n",
    "    return Pr"
   ]
  },
  {
   "cell_type": "code",
   "execution_count": 55,
   "metadata": {},
   "outputs": [],
   "source": [
    "def log_distancia(Pr_d0,d,d0,n):\n",
    "    Pr = Pr_d0*(d/d0)**(-n)\n",
    "    return Pr"
   ]
  },
  {
   "cell_type": "code",
   "execution_count": 56,
   "metadata": {},
   "outputs": [],
   "source": [
    "def hata_extendido(Pt,fcMhz, ht, hr, d):\n",
    "    ahm = (1.1 * np.log10(fcMhz) - 0.7) * hr - (1.56 * np.log10(fcMhz) - 0.8)\n",
    "    Lp = (\n",
    "        69.55\n",
    "        + 26.16 * np.log10(fcMhz)\n",
    "        - 13.82 * np.log10(ht)\n",
    "        - ahm\n",
    "        + (44.9 - 6.55 * np.log10(ht)) * np.log10(d / 1e3)\n",
    "    )\n",
    "    Pr = Pt / (10**(Lp / 10))\n",
    "    return Pr"
   ]
  },
  {
   "cell_type": "code",
   "execution_count": 57,
   "metadata": {},
   "outputs": [],
   "source": [
    "espaco_livre = eq_espaco_livre_2(Pt_2, Gt, Gr, c / fc_2, d)"
   ]
  },
  {
   "cell_type": "code",
   "execution_count": 58,
   "metadata": {},
   "outputs": [],
   "source": [
    "espaco_livre_d0 = eq_espaco_livre_2(Pt_2, Gt, Gr, c / fc_2, d0_2)"
   ]
  },
  {
   "cell_type": "code",
   "execution_count": 59,
   "metadata": {},
   "outputs": [],
   "source": [
    "log_distancia_n3 = log_distancia(espaco_livre_d0, d, d0_2, 3)\n",
    "log_distancia_n4 = log_distancia(espaco_livre_d0, d, d0_2, 4)"
   ]
  },
  {
   "cell_type": "code",
   "execution_count": 60,
   "metadata": {},
   "outputs": [],
   "source": [
    "ht,hr=30,2\n",
    "hata_extendido_30_2= hata_extendido(Pt_2,fc_2/1e6, ht, hr, d)\n",
    "\n",
    "Pr0_hata = hata_extendido(Pt_2, fc_2/1e6, ht, hr, d0_2)\n",
    "log_distancia_n3_hata = log_distancia(Pr0_hata, d, d0_2, 3)\n",
    "log_distancia_n4_hata = log_distancia(Pr0_hata, d, d0_2, 4)"
   ]
  },
  {
   "cell_type": "code",
   "execution_count": 69,
   "metadata": {},
   "outputs": [],
   "source": [
    "def watts_to_dbm(watts):\n",
    "    return 10 * np.log10(watts/0.1)"
   ]
  },
  {
   "cell_type": "code",
   "execution_count": 70,
   "metadata": {},
   "outputs": [
    {
     "data": {
      "image/png": "[encoded data removed]",
      "text/plain": [
       "<Figure size 640x480 with 1 Axes>"
      ]
     },
     "metadata": {},
     "output_type": "display_data"
    }
   ],
   "source": [
    "plt.figure()\n",
    "plt.plot(d, watts_to_dbm(espaco_livre), label=\"Espaço Livre\")\n",
    "plt.plot(d, watts_to_dbm(log_distancia_n3), label=\"Log Distância n=3\")\n",
    "plt.plot(d, watts_to_dbm(log_distancia_n4), label=\"Log Distância n=4\")\n",
    "plt.plot(d, watts_to_dbm(hata_extendido_30_2), label=\"Hata Extendido\")\n",
    "plt.plot(d, watts_to_dbm(log_distancia_n3_hata), label=\"Log Distância n=3 Hata\")\n",
    "plt.plot(d, watts_to_dbm(log_distancia_n4_hata), label=\"Log Distância n=4 Hata\")\n",
    "plt.title(\"Path Loss\")\n",
    "plt.xscale(\"log\")\n",
    "plt.legend()\n",
    "plt.xlabel(\"Distância (Km)\")\n",
    "plt.ylabel(\"Perda de percurso (dBm)\")\n",
    "plt.grid()\n",
    "plt.show()\n",
    "plt.show()"
   ]
  },
  {
   "cell_type": "code",
   "execution_count": 71,
   "metadata": {},
   "outputs": [],
   "source": [
    "import pandas as pd\n",
    "data = {\n",
    "    \"Distância (m)\": d,\n",
    "    \"Espaço Livre (dBm)\": watts_to_dbm(espaco_livre),\n",
    "    \"Log Distância n=3 (dBm)\": watts_to_dbm(log_distancia_n3),\n",
    "    \"Log Distância n=4 (dBm)\": watts_to_dbm(log_distancia_n4),\n",
    "    \"Hata Extendido (dBm)\": watts_to_dbm(hata_extendido_30_2),\n",
    "    \"Log Distância n=3 Hata (dBm)\": watts_to_dbm(log_distancia_n3_hata),\n",
    "    \"Log Distância n=4 Hata (dBm)\": watts_to_dbm(log_distancia_n4_hata),\n",
    "}\n",
    "filter = np.arange(1000, 21000, 1000)"
   ]
  },
  {
   "cell_type": "code",
   "execution_count": 72,
   "metadata": {},
   "outputs": [
    {
     "data": {
      "text/html": [
       "<div>\n",
       "<style scoped>\n",
       "    .dataframe tbody tr th:only-of-type {\n",
       "        vertical-align: middle;\n",
       "    }\n",
       "\n",
       "    .dataframe tbody tr th {\n",
       "        vertical-align: top;\n",
       "    }\n",
       "\n",
       "    .dataframe thead th {\n",
       "        text-align: right;\n",
       "    }\n",
       "</style>\n",
       "<table border=\"1\" class=\"dataframe\">\n",
       "  <thead>\n",
       "    <tr style=\"text-align: right;\">\n",
       "      <th></th>\n",
       "      <th>Distância (m)</th>\n",
       "      <th>Espaço Livre (dBm)</th>\n",
       "      <th>Log Distância n=3 (dBm)</th>\n",
       "      <th>Log Distância n=4 (dBm)</th>\n",
       "      <th>Hata Extendido (dBm)</th>\n",
       "      <th>Log Distância n=3 Hata (dBm)</th>\n",
       "      <th>Log Distância n=4 Hata (dBm)</th>\n",
       "    </tr>\n",
       "  </thead>\n",
       "  <tbody>\n",
       "    <tr>\n",
       "      <th>0</th>\n",
       "      <td>1000</td>\n",
       "      <td>-57.547222</td>\n",
       "      <td>-57.547222</td>\n",
       "      <td>-57.547222</td>\n",
       "      <td>-92.810739</td>\n",
       "      <td>-92.810739</td>\n",
       "      <td>-92.810739</td>\n",
       "    </tr>\n",
       "    <tr>\n",
       "      <th>10</th>\n",
       "      <td>2000</td>\n",
       "      <td>-63.567822</td>\n",
       "      <td>-66.578122</td>\n",
       "      <td>-69.588422</td>\n",
       "      <td>-103.414477</td>\n",
       "      <td>-101.841638</td>\n",
       "      <td>-104.851938</td>\n",
       "    </tr>\n",
       "    <tr>\n",
       "      <th>20</th>\n",
       "      <td>3000</td>\n",
       "      <td>-67.089647</td>\n",
       "      <td>-71.860860</td>\n",
       "      <td>-76.632072</td>\n",
       "      <td>-109.617266</td>\n",
       "      <td>-107.124376</td>\n",
       "      <td>-111.895589</td>\n",
       "    </tr>\n",
       "    <tr>\n",
       "      <th>30</th>\n",
       "      <td>4000</td>\n",
       "      <td>-69.588422</td>\n",
       "      <td>-75.609022</td>\n",
       "      <td>-81.629622</td>\n",
       "      <td>-114.018215</td>\n",
       "      <td>-110.872538</td>\n",
       "      <td>-116.893138</td>\n",
       "    </tr>\n",
       "    <tr>\n",
       "      <th>40</th>\n",
       "      <td>5000</td>\n",
       "      <td>-71.526622</td>\n",
       "      <td>-78.516322</td>\n",
       "      <td>-85.506022</td>\n",
       "      <td>-117.431856</td>\n",
       "      <td>-113.779839</td>\n",
       "      <td>-120.769539</td>\n",
       "    </tr>\n",
       "    <tr>\n",
       "      <th>50</th>\n",
       "      <td>6000</td>\n",
       "      <td>-73.110247</td>\n",
       "      <td>-80.891760</td>\n",
       "      <td>-88.673272</td>\n",
       "      <td>-120.221004</td>\n",
       "      <td>-116.155276</td>\n",
       "      <td>-123.936789</td>\n",
       "    </tr>\n",
       "    <tr>\n",
       "      <th>60</th>\n",
       "      <td>7000</td>\n",
       "      <td>-74.449183</td>\n",
       "      <td>-82.900163</td>\n",
       "      <td>-91.351144</td>\n",
       "      <td>-122.579195</td>\n",
       "      <td>-118.163680</td>\n",
       "      <td>-126.614660</td>\n",
       "    </tr>\n",
       "    <tr>\n",
       "      <th>70</th>\n",
       "      <td>8000</td>\n",
       "      <td>-75.609022</td>\n",
       "      <td>-84.639922</td>\n",
       "      <td>-93.670822</td>\n",
       "      <td>-124.621953</td>\n",
       "      <td>-119.903438</td>\n",
       "      <td>-128.934338</td>\n",
       "    </tr>\n",
       "    <tr>\n",
       "      <th>80</th>\n",
       "      <td>9000</td>\n",
       "      <td>-76.632072</td>\n",
       "      <td>-86.174498</td>\n",
       "      <td>-95.716923</td>\n",
       "      <td>-126.423793</td>\n",
       "      <td>-121.438014</td>\n",
       "      <td>-130.980439</td>\n",
       "    </tr>\n",
       "    <tr>\n",
       "      <th>90</th>\n",
       "      <td>10000</td>\n",
       "      <td>-77.547222</td>\n",
       "      <td>-87.547222</td>\n",
       "      <td>-97.547222</td>\n",
       "      <td>-128.035594</td>\n",
       "      <td>-122.810739</td>\n",
       "      <td>-132.810739</td>\n",
       "    </tr>\n",
       "    <tr>\n",
       "      <th>100</th>\n",
       "      <td>11000</td>\n",
       "      <td>-78.375076</td>\n",
       "      <td>-88.789003</td>\n",
       "      <td>-99.202930</td>\n",
       "      <td>-129.493646</td>\n",
       "      <td>-124.052519</td>\n",
       "      <td>-134.466446</td>\n",
       "    </tr>\n",
       "    <tr>\n",
       "      <th>110</th>\n",
       "      <td>12000</td>\n",
       "      <td>-79.130847</td>\n",
       "      <td>-89.922660</td>\n",
       "      <td>-100.714472</td>\n",
       "      <td>-130.824742</td>\n",
       "      <td>-125.186176</td>\n",
       "      <td>-135.977988</td>\n",
       "    </tr>\n",
       "    <tr>\n",
       "      <th>120</th>\n",
       "      <td>13000</td>\n",
       "      <td>-79.826089</td>\n",
       "      <td>-90.965523</td>\n",
       "      <td>-102.104956</td>\n",
       "      <td>-132.049233</td>\n",
       "      <td>-126.229039</td>\n",
       "      <td>-137.368473</td>\n",
       "    </tr>\n",
       "    <tr>\n",
       "      <th>130</th>\n",
       "      <td>14000</td>\n",
       "      <td>-80.469783</td>\n",
       "      <td>-91.931063</td>\n",
       "      <td>-103.392344</td>\n",
       "      <td>-133.182933</td>\n",
       "      <td>-127.194580</td>\n",
       "      <td>-138.655860</td>\n",
       "    </tr>\n",
       "    <tr>\n",
       "      <th>140</th>\n",
       "      <td>15000</td>\n",
       "      <td>-81.069047</td>\n",
       "      <td>-92.829960</td>\n",
       "      <td>-104.590873</td>\n",
       "      <td>-134.238384</td>\n",
       "      <td>-128.093476</td>\n",
       "      <td>-139.854389</td>\n",
       "    </tr>\n",
       "    <tr>\n",
       "      <th>150</th>\n",
       "      <td>16000</td>\n",
       "      <td>-81.629622</td>\n",
       "      <td>-93.670822</td>\n",
       "      <td>-105.712022</td>\n",
       "      <td>-135.225691</td>\n",
       "      <td>-128.934338</td>\n",
       "      <td>-140.975538</td>\n",
       "    </tr>\n",
       "    <tr>\n",
       "      <th>160</th>\n",
       "      <td>17000</td>\n",
       "      <td>-82.156201</td>\n",
       "      <td>-94.460690</td>\n",
       "      <td>-106.765179</td>\n",
       "      <td>-136.153124</td>\n",
       "      <td>-129.724206</td>\n",
       "      <td>-142.028695</td>\n",
       "    </tr>\n",
       "    <tr>\n",
       "      <th>170</th>\n",
       "      <td>18000</td>\n",
       "      <td>-82.652672</td>\n",
       "      <td>-95.205397</td>\n",
       "      <td>-107.758122</td>\n",
       "      <td>-137.027532</td>\n",
       "      <td>-130.468914</td>\n",
       "      <td>-143.021639</td>\n",
       "    </tr>\n",
       "    <tr>\n",
       "      <th>180</th>\n",
       "      <td>19000</td>\n",
       "      <td>-83.122294</td>\n",
       "      <td>-95.909830</td>\n",
       "      <td>-108.697366</td>\n",
       "      <td>-137.854650</td>\n",
       "      <td>-131.173347</td>\n",
       "      <td>-143.960883</td>\n",
       "    </tr>\n",
       "    <tr>\n",
       "      <th>190</th>\n",
       "      <td>20000</td>\n",
       "      <td>-83.567822</td>\n",
       "      <td>-96.578122</td>\n",
       "      <td>-109.588422</td>\n",
       "      <td>-138.639333</td>\n",
       "      <td>-131.841638</td>\n",
       "      <td>-144.851938</td>\n",
       "    </tr>\n",
       "  </tbody>\n",
       "</table>\n",
       "</div>"
      ],
      "text/plain": [
       "     Distância (m)  Espaço Livre (dBm)  Log Distância n=3 (dBm)  \\\n",
       "0             1000          -57.547222               -57.547222   \n",
       "10            2000          -63.567822               -66.578122   \n",
       "20            3000          -67.089647               -71.860860   \n",
       "30            4000          -69.588422               -75.609022   \n",
       "40            5000          -71.526622               -78.516322   \n",
       "50            6000          -73.110247               -80.891760   \n",
       "60            7000          -74.449183               -82.900163   \n",
       "70            8000          -75.609022               -84.639922   \n",
       "80            9000          -76.632072               -86.174498   \n",
       "90           10000          -77.547222               -87.547222   \n",
       "100          11000          -78.375076               -88.789003   \n",
       "110          12000          -79.130847               -89.922660   \n",
       "120          13000          -79.826089               -90.965523   \n",
       "130          14000          -80.469783               -91.931063   \n",
       "140          15000          -81.069047               -92.829960   \n",
       "150          16000          -81.629622               -93.670822   \n",
       "160          17000          -82.156201               -94.460690   \n",
       "170          18000          -82.652672               -95.205397   \n",
       "180          19000          -83.122294               -95.909830   \n",
       "190          20000          -83.567822               -96.578122   \n",
       "\n",
       "     Log Distância n=4 (dBm)  Hata Extendido (dBm)  \\\n",
       "0                 -57.547222            -92.810739   \n",
       "10                -69.588422           -103.414477   \n",
       "20                -76.632072           -109.617266   \n",
       "30                -81.629622           -114.018215   \n",
       "40                -85.506022           -117.431856   \n",
       "50                -88.673272           -120.221004   \n",
       "60                -91.351144           -122.579195   \n",
       "70                -93.670822           -124.621953   \n",
       "80                -95.716923           -126.423793   \n",
       "90                -97.547222           -128.035594   \n",
       "100               -99.202930           -129.493646   \n",
       "110              -100.714472           -130.824742   \n",
       "120              -102.104956           -132.049233   \n",
       "130              -103.392344           -133.182933   \n",
       "140              -104.590873           -134.238384   \n",
       "150              -105.712022           -135.225691   \n",
       "160              -106.765179           -136.153124   \n",
       "170              -107.758122           -137.027532   \n",
       "180              -108.697366           -137.854650   \n",
       "190              -109.588422           -138.639333   \n",
       "\n",
       "     Log Distância n=3 Hata (dBm)  Log Distância n=4 Hata (dBm)  \n",
       "0                      -92.810739                    -92.810739  \n",
       "10                    -101.841638                   -104.851938  \n",
       "20                    -107.124376                   -111.895589  \n",
       "30                    -110.872538                   -116.893138  \n",
       "40                    -113.779839                   -120.769539  \n",
       "50                    -116.155276                   -123.936789  \n",
       "60                    -118.163680                   -126.614660  \n",
       "70                    -119.903438                   -128.934338  \n",
       "80                    -121.438014                   -130.980439  \n",
       "90                    -122.810739                   -132.810739  \n",
       "100                   -124.052519                   -134.466446  \n",
       "110                   -125.186176                   -135.977988  \n",
       "120                   -126.229039                   -137.368473  \n",
       "130                   -127.194580                   -138.655860  \n",
       "140                   -128.093476                   -139.854389  \n",
       "150                   -128.934338                   -140.975538  \n",
       "160                   -129.724206                   -142.028695  \n",
       "170                   -130.468914                   -143.021639  \n",
       "180                   -131.173347                   -143.960883  \n",
       "190                   -131.841638                   -144.851938  "
      ]
     },
     "execution_count": 72,
     "metadata": {},
     "output_type": "execute_result"
    }
   ],
   "source": [
    "df = pd.DataFrame(data)\n",
    "df = df[df[\"Distância (m)\"].isin(filter)]\n",
    "df"
   ]
  },
  {
   "cell_type": "code",
   "execution_count": null,
   "metadata": {},
   "outputs": [],
   "source": []
  }
 ],
 "metadata": {
  "kernelspec": {
   "display_name": "ufsc-engineering",
   "language": "python",
   "name": "python3"
  },
  "language_info": {
   "codemirror_mode": {
    "name": "ipython",
    "version": 3
   },
   "file_extension": ".py",
   "mimetype": "text/x-python",
   "name": "python",
   "nbconvert_exporter": "python",
   "pygments_lexer": "ipython3",
   "version": "3.12.4"
  }
 },
 "nbformat": 4,
 "nbformat_minor": 2
}
