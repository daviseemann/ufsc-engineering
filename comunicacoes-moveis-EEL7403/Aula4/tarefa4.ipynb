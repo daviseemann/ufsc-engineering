{
 "cells": [
  {
   "cell_type": "markdown",
   "metadata": {},
   "source": [
    "# Tarefa 1\n",
    "\n",
    "Seja uma rede 802.11b instalada em um escritório.\n",
    "\n",
    "Considere pouca mobilidade (pessoas caminhando a 1 m/s), portadora de 2.4 GHz e banda de 20MHz. \n",
    "\n",
    "Assuma um espalhamento de atraso rms de 0.07µs e que uma mensagem (um frame com vários símbolos) dura menos que 19ms. \n",
    "\n",
    "- Determine o tempo e a banda de coerência.\n",
    "- Classifique o canal em termos de seletividade em frequência e variação temporal."
   ]
  },
  {
   "cell_type": "code",
   "execution_count": 11,
   "metadata": {},
   "outputs": [
    {
     "name": "stdout",
     "output_type": "stream",
     "text": [
      "Comprimento de onda: 0.12 m\n",
      "Desvio Doppler máximo: 8.00 Hz\n",
      "Tempo de coerência: 0.125 s\n",
      "Largura de banda de coerência: 2.8571 MHz\n"
     ]
    }
   ],
   "source": [
    "import numpy as np\n",
    "\n",
    "# Dados fornecidos\n",
    "v = 1  # velocidade em m/s\n",
    "fc = 2.4e9  # frequência da portadora em Hz\n",
    "c = 3e8  # velocidade da luz em m/s\n",
    "tau_rms = 0.07e-6  # espalhamento de atraso rms em segundos\n",
    "\n",
    "# Calcular o comprimento de onda\n",
    "lambda_ = c / fc\n",
    "\n",
    "# Calcular o desvio Doppler máximo\n",
    "fd = (v * fc) / c\n",
    "\n",
    "# Calcular o tempo de coerência\n",
    "Tc = lambda_ / (v)\n",
    "\n",
    "# Calcular a largura de banda de coerência\n",
    "Bc = 1 / (5 * tau_rms)\n",
    "\n",
    "Tc, Bc\n",
    "\n",
    "print(f\"Comprimento de onda: {lambda_:.2f} m\")\n",
    "print(f\"Desvio Doppler máximo: {fd:.2f} Hz\")\n",
    "\n",
    "\n",
    "print(f\"Tempo de coerência: {Tc:.3f} s\")\n",
    "print(f\"Largura de banda de coerência: {Bc/1e6:.4f} MHz\")"
   ]
  },
  {
   "cell_type": "markdown",
   "metadata": {},
   "source": [
    "Observando os resultados, pode-se concluir que o canal é..."
   ]
  },
  {
   "cell_type": "markdown",
   "metadata": {},
   "source": [
    "Comprimento de Onda $$\\lambda = \\frac{c}{f_c} $$\n",
    "Onde:\n",
    "(c) é a velocidade da luz ($3 \\times 10^8$ m/s)  \n",
    "($f_c$) é a frequência da portadora (2.4 GHz)  \n",
    "\n",
    "Desvio Doppler Máximo ($f_d$): $f_d = \\frac{v \\cdot f_c}{c}$ Onde:\n",
    "\n",
    "($v$) é a velocidade (1 m/s)  \n",
    "Tempo de Coerência ($T_c$): $T_c = \\frac{\\lambda}{v}$  \n",
    "\n",
    "Largura de Banda de Coerência ($B_c$): $B_c = \\frac{1}{5 \\cdot \\tau_{rms}}$ Onde:\n",
    "\n",
    "($\\tau_{rms}$) é o espalhamento de atraso rms (0.07 µs)\n"
   ]
  },
  {
   "cell_type": "markdown",
   "metadata": {},
   "source": [
    "# Tarefa 2\n",
    "\n",
    "Seja o seguinte perfil de potências de um canal de TV digital:\n",
    "\n",
    "| Multipercurso   | 1  | 2   | 3   | 4   | 5   | 6   |\n",
    "|-----------------|----|-----|-----|-----|-----|-----|\n",
    "| **Atraso (µs)** | 0  | 0.3 | 3.5 | 4.4 | 9.5 | 12.7    |\n",
    "| **Atenuação (dB)** | 0  | 12  | 4   | 7   | 15  | 22  |\n",
    "\n",
    "1. Determine a banda de coerência.\n",
    "2. Sabendo que o sinal de TV digital tem banda de aproximadamente 6MHz, o canal é seletivo em frequência?\n"
   ]
  },
  {
   "cell_type": "code",
   "execution_count": 23,
   "metadata": {},
   "outputs": [
    {
     "name": "stdout",
     "output_type": "stream",
     "text": [
      "Atraso médio (tau_mean): 1.572277 µs\n",
      "Espalhamento de atraso RMS (tau_rms): 2.226101 µs\n",
      "Banda de coerência (Bc): 0.089843 MHz\n",
      "O canal é seletivo em frequência.\n"
     ]
    }
   ],
   "source": [
    "import numpy as np\n",
    "\n",
    "# Dados fornecidos\n",
    "atrasos = np.array([0, 0.3, 3.5, 4.4, 9.5, 12.7])  # em microsegundos\n",
    "atenuacoes_db = np.array([0, 12, 4, 7, 15, 22])  # em dB\n",
    "\n",
    "# Passo 1: Converter atenuações de dB para potência linear\n",
    "# A fórmula é: P_linear = 10^(-A_dB / 10)\n",
    "potencias = 10 ** (-atenuacoes_db / 10)\n",
    "\n",
    "# Normalizar as potências para que a soma seja 1 (distribuição de probabilidade)\n",
    "potencias_normalizadas = potencias / np.sum(potencias)\n",
    "\n",
    "# Passo 2: Calcular o atraso médio (tau_mean)\n",
    "tau_mean = np.sum(potencias_normalizadas * atrasos)\n",
    "\n",
    "# Passo 3: Calcular o espalhamento de atraso RMS (tau_rms)\n",
    "tau_rms = np.sqrt(np.sum(potencias_normalizadas * (atrasos - tau_mean) ** 2))\n",
    "\n",
    "# Passo 4: Calcular a banda de coerência (Bc)\n",
    "# Uma aproximação comum é Bc ≈ 1 / (5 * tau_rms)\n",
    "# Converter tau_rms de microsegundos para segundos antes de calcular\n",
    "tau_rms_s = tau_rms * 1e-6  # microsegundos para segundos\n",
    "Bc = 1 / (5 * tau_rms_s)\n",
    "\n",
    "# Passo 5: Determinar se o canal é seletivo em frequência\n",
    "largura_de_banda_sinal = 6e6  # 6 MHz em Hz\n",
    "\n",
    "if Bc > largura_de_banda_sinal:\n",
    "    seletividade = \"não é seletivo em frequência (canal plano em frequência)\"\n",
    "else:\n",
    "    seletividade = \"é seletivo em frequência\"\n",
    "\n",
    "# Imprimir os resultados\n",
    "print(f\"Atraso médio (tau_mean): {tau_mean:.6f} µs\")\n",
    "print(f\"Espalhamento de atraso RMS (tau_rms): {tau_rms:.6f} µs\")\n",
    "print(f\"Banda de coerência (Bc): {Bc/1e6:.6f} MHz\")\n",
    "print(f\"O canal {seletividade}.\")"
   ]
  },
  {
   "cell_type": "code",
   "execution_count": null,
   "metadata": {},
   "outputs": [],
   "source": []
  }
 ],
 "metadata": {
  "kernelspec": {
   "display_name": "ufsc-engineering",
   "language": "python",
   "name": "python3"
  },
  "language_info": {
   "codemirror_mode": {
    "name": "ipython",
    "version": 3
   },
   "file_extension": ".py",
   "mimetype": "text/x-python",
   "name": "python",
   "nbconvert_exporter": "python",
   "pygments_lexer": "ipython3",
   "version": "3.12.5"
  }
 },
 "nbformat": 4,
 "nbformat_minor": 2
}
