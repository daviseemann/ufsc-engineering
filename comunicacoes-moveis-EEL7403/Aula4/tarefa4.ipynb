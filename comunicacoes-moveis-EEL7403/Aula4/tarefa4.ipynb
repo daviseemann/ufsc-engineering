{
 "cells": [
  {
   "cell_type": "markdown",
   "metadata": {},
   "source": [
    "# Tarefa 1\n",
    "\n",
    "Seja uma rede 802.11b instalada em um escritório.\n",
    "\n",
    "Considere pouca mobilidade (pessoas caminhando a 1 m/s), portadora de 2.4 GHz e banda de 20MHz.\n",
    "\n",
    "Assuma um espalhamento de atraso rms de 0.07µs e que uma mensagem (um frame com vários símbolos) dura menos que 19ms.\n",
    "\n",
    "- Determine o tempo e a banda de coerência.\n",
    "- Classifique o canal em termos de seletividade em frequência e variação temporal.\n"
   ]
  },
  {
   "cell_type": "code",
   "execution_count": 1,
   "metadata": {},
   "outputs": [],
   "source": [
    "import numpy as np\n",
    "\n",
    "# Dados fornecidos\n",
    "v = 1  # velocidade em m/s\n",
    "fc = 2.4e9  # frequência da portadora em Hz\n",
    "c = 3e8  # velocidade da luz em m/s\n",
    "tau_rms = 0.07e-6  # espalhamento de atraso rms em segundos"
   ]
  },
  {
   "cell_type": "code",
   "execution_count": 2,
   "metadata": {},
   "outputs": [],
   "source": [
    "# Calcular o comprimento de onda\n",
    "lambda_ = c / fc\n",
    "\n",
    "# Calcular o desvio Doppler máximo\n",
    "fd = (v * fc) / c\n",
    "\n",
    "# Calcular o tempo de coerência\n",
    "Tc = lambda_ / (v)\n",
    "\n",
    "# Calcular a largura de banda de coerência\n",
    "Bc = 1 / (5 * tau_rms)"
   ]
  },
  {
   "cell_type": "code",
   "execution_count": 3,
   "metadata": {},
   "outputs": [
    {
     "name": "stdout",
     "output_type": "stream",
     "text": [
      "Tempo de coerência: 125 ms\n",
      "Comprimento de onda: 0.12 m\n",
      "Desvio Doppler máximo: 8.00 Hz\n",
      "Largura de banda de coerência: 2.857 MHz\n"
     ]
    }
   ],
   "source": [
    "print(f\"Tempo de coerência: {Tc*1000:0.0f} ms\")\n",
    "\n",
    "print(f\"Comprimento de onda: {lambda_:.2f} m\")\n",
    "\n",
    "\n",
    "print(f\"Desvio Doppler máximo: {fd:.2f} Hz\")\n",
    "\n",
    "print(f\"Largura de banda de coerência: {Bc/1e6:.3f} MHz\")"
   ]
  },
  {
   "cell_type": "markdown",
   "metadata": {},
   "source": [
    "## Cálculo dos Parâmetros do Canal\n",
    "\n",
    "Comprimento de Onda\n",
    "\n",
    "$$\n",
    "\\lambda = \\frac{c}{f_c} = \\frac{3 \\times 10^8 \\, \\text{m/s}}{2{,}4 \\times 10^9 \\, \\text{Hz}} = 0{,}125 \\, \\text{m}\n",
    "$$\n",
    "\n",
    "Desvio Doppler Máximo\n",
    "\n",
    "$$\n",
    "f_d = \\frac{v \\cdot f_c}{c} = \\frac{1 \\, \\text{m/s} \\times 2{,}4 \\times 10^9 \\, \\text{Hz}}{3 \\times 10^8 \\, \\text{m/s}} = 8 \\, \\text{Hz}\n",
    "$$\n",
    "\n",
    "Tempo de Coerência\n",
    "\n",
    "$$\n",
    "T_c = \\frac{\\lambda}{v} = \\frac{0{,}125 \\, \\text{m}}{1 \\, \\text{m/s}} = 0{,}125 \\, \\text{s} = 125 \\, \\text{ms}\n",
    "$$\n",
    "\n",
    "Largura de Banda de Coerência\n",
    "\n",
    "$$\n",
    "B_c = \\frac{1}{5 \\cdot \\tau_{\\text{rms}}} = \\frac{1}{5 \\times 0{,}07 \\times 10^{-6} \\, \\text{s}} = 2{,}857 \\, \\text{MHz}\n",
    "$$\n",
    "\n",
    "## Classificação do Canal\n",
    "\n",
    "Observando os resultados, pode-se concluir que o **canal é lento**, pois o tempo de coerência é de **125 ms** e é bem **maior** que o tempo de duração da mensagem, que é de **19 ms**. No entanto, este canal é **seletivo em frequência**, pois a banda de coerência (2,857 MHz) é menor que a banda do sinal (20 MHz).\n"
   ]
  },
  {
   "cell_type": "markdown",
   "metadata": {},
   "source": [
    "# Tarefa 2\n",
    "\n",
    "Seja o seguinte perfil de potências de um canal de TV digital:\n",
    "\n",
    "| Multipercurso      | 1   | 2   | 3   | 4   | 5   | 6    |\n",
    "| ------------------ | --- | --- | --- | --- | --- | ---- |\n",
    "| **Atraso (µs)**    | 0   | 0.3 | 3.5 | 4.4 | 9.5 | 12.7 |\n",
    "| **Atenuação (dB)** | 0   | 12  | 4   | 7   | 15  | 22   |\n",
    "\n",
    "1. Determine a banda de coerência.\n",
    "2. Sabendo que o sinal de TV digital tem banda de aproximadamente 6MHz, o canal é seletivo em frequência?\n"
   ]
  },
  {
   "cell_type": "code",
   "execution_count": 4,
   "metadata": {},
   "outputs": [],
   "source": [
    "# Dados fornecidos\n",
    "atrasos = np.array([0, 0.3, 3.5, 4.4, 9.5, 12.7])  # em microsegundos\n",
    "atenuacoes_db = np.array([0, 12, 4, 7, 15, 22])  # em dB"
   ]
  },
  {
   "cell_type": "code",
   "execution_count": 5,
   "metadata": {},
   "outputs": [
    {
     "name": "stdout",
     "output_type": "stream",
     "text": [
      "Atraso médio (tau_mean): 1.5723 microsegundos\n",
      "Atraso médio quadrado (tau_mean_squared): 7.4276 microsegundos²\n"
     ]
    }
   ],
   "source": [
    "# Passo 1: Converter atenuações de dB para potência linear\n",
    "# Fórmula: P_linear = 10^(-A_dB / 10)\n",
    "potencias = 10 ** (-atenuacoes_db / 10)\n",
    "\n",
    "# Passo 2: Calcular o atraso médio (tau_mean)\n",
    "tau_mean = np.sum(potencias * atrasos) / np.sum(potencias)\n",
    "\n",
    "# Passo 3: Calcular o atraso médio quadrado (tau_mean^2)\n",
    "tau_mean_squared = np.sum(potencias * atrasos**2) / np.sum(potencias)\n",
    "\n",
    "# Exibir os resultados\n",
    "print(f\"Atraso médio (tau_mean): {tau_mean:.4f} microsegundos\")\n",
    "print(\n",
    "    f\"Atraso médio quadrado (tau_mean_squared): {tau_mean_squared:.4f} microsegundos\\u00b2\"\n",
    ")"
   ]
  },
  {
   "cell_type": "code",
   "execution_count": 21,
   "metadata": {},
   "outputs": [
    {
     "name": "stdout",
     "output_type": "stream",
     "text": [
      "Espalhamento de atraso rms: 2.2261 microsegundos\n"
     ]
    }
   ],
   "source": [
    "sigma_rms = np.sqrt(tau_mean_squared - tau_mean**2)\n",
    "print(f\"Espalhamento de atraso rms: {sigma_rms:.4f} microsegundos\")"
   ]
  },
  {
   "cell_type": "code",
   "execution_count": 24,
   "metadata": {},
   "outputs": [
    {
     "name": "stdout",
     "output_type": "stream",
     "text": [
      "Banda de coerência (Bc): 89.8432 kHz\n"
     ]
    }
   ],
   "source": [
    "# Passo 4: Calcular a banda de coerência (Bc)\n",
    "# Converter tau_rms de microsegundos para segundos antes de calcular\n",
    "sigma_rms_s = sigma_rms * 1e-3\n",
    "Bc_2 = 1 / (5 * sigma_rms_s)\n",
    "\n",
    "print(f\"Banda de coerência (Bc): {Bc_2:.4f} kHz\")"
   ]
  },
  {
   "cell_type": "markdown",
   "metadata": {},
   "source": [
    "Como a Banda de coerencia é menor que oa largura de banda do canal, logo o canal é seletivo em frequência.\n"
   ]
  },
  {
   "cell_type": "markdown",
   "metadata": {},
   "source": [
    "## Cálculo dos Parâmetros do Canal\n",
    "\n",
    "Atraso Médio (τ_mean)\n",
    "\n",
    "$$\n",
    "\\tau_{\\text{mean}} = \\frac{\\sum (P_{\\text{linear}} \\times \\text{atrasos})}{\\sum P_{\\text{linear}}} = 1{,}5723 \\, \\text{µs}\n",
    "$$\n",
    "\n",
    "Atraso Médio Quadrado ($\\tau^2_{mean}$)\n",
    "\n",
    "$$\n",
    "\\tau_{\\text{mean}}^2 = \\frac{\\sum (P_{\\text{linear}} \\times \\text{atrasos}^2)}{\\sum P_{\\text{linear}}} = 7{,}4276 \\, \\text{µs}^2\n",
    "$$\n",
    "\n",
    "Espalhamento de Atraso RMS ($\\sigma_{T}$)\n",
    "\n",
    "$$\n",
    "\\sigma_{T} = \\sqrt{\\tau_{\\text{mean}}^2 - \\tau_{\\text{mean}}^2} = 2{,}2261 \\, \\text{µs}\n",
    "$$\n",
    "\n",
    "Banda de Coerência (Bc)\n",
    "\n",
    "$$\n",
    "B_c = \\frac{1}{5 \\cdot \\sigma_{T}} = \\frac{1}{5 \\times 2{,}2261 \\times 10^{-6} \\, \\text{s}} = 89{,}84 \\, \\text{kHz}\n",
    "$$\n",
    "\n",
    "## Classificação do Canal\n",
    "\n",
    "Com base nos cálculos, podemos concluir que este **canal é seletivo em frequência**, pois a banda de coerência (89,84 kHz) é **menor** que a largura de banda do sinal (6 MHz).\n"
   ]
  }
 ],
 "metadata": {
  "kernelspec": {
   "display_name": "ufsc-engineering",
   "language": "python",
   "name": "python3"
  },
  "language_info": {
   "codemirror_mode": {
    "name": "ipython",
    "version": 3
   },
   "file_extension": ".py",
   "mimetype": "text/x-python",
   "name": "python",
   "nbconvert_exporter": "python",
   "pygments_lexer": "ipython3",
   "version": "3.12.5"
  }
 },
 "nbformat": 4,
 "nbformat_minor": 2
}
